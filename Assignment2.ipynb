{
 "cells": [
  {
   "cell_type": "code",
   "execution_count": 8,
   "metadata": {},
   "outputs": [
    {
     "name": "stdout",
     "output_type": "stream",
     "text": [
      "Enter marks of the first subject: 75\n",
      "Enter marks of the second subject: 69\n",
      "Enter marks of the third subject: 72\n",
      "Enter marks of the fourth subject: 66\n",
      "Enter marks of the fifth subject: 68\n",
      "Total MArks: 350\n",
      "A Grade\n"
     ]
    }
   ],
   "source": [
    "#Question 1\n",
    "sub1=int(input(\"Enter marks of the first subject: \"))\n",
    "sub2=int(input(\"Enter marks of the second subject: \"))\n",
    "sub3=int(input(\"Enter marks of the third subject: \"))\n",
    "sub4=int(input(\"Enter marks of the fourth subject: \"))\n",
    "sub5=int(input(\"Enter marks of the fifth subject: \"))\n",
    "total=(sub1+sub2+sub3+sub4+sub5)\n",
    "print(\"Total MArks:\", total)\n",
    "per=total/5\n",
    "\n",
    "if per >= 80 and per <= 100:\n",
    "    print(\"A+ Grade\")\n",
    "elif per >= 70 and per < 80:\n",
    "    print(\"A Grade\")\n",
    "elif per >= 60 and per < 70:\n",
    "    print(\"B Grade\")\n",
    "elif per >= 50 and per < 60:\n",
    "    print(\"C Grade\")\n",
    "elif per >= 40 and per < 50:\n",
    "    print(\"D Grade\")\n",
    "elif per >= 0 and per < 40:\n",
    "    print(\"Fail\")\n",
    "else:\n",
    "    print(\"Wrong Input\")\n",
    "   \n"
   ]
  },
  {
   "cell_type": "code",
   "execution_count": 11,
   "metadata": {},
   "outputs": [
    {
     "name": "stdout",
     "output_type": "stream",
     "text": [
      "Enter a number: 5\n",
      "This is an odd number.\n"
     ]
    }
   ],
   "source": [
    "#Question 2\n",
    "num = int(input(\"Enter a number: \"))\n",
    "mod = num % 2\n",
    "if mod > 0:\n",
    "    print(\"This is an odd number.\")\n",
    "else:\n",
    "    print(\"This is an even number.\")"
   ]
  },
  {
   "cell_type": "code",
   "execution_count": 10,
   "metadata": {},
   "outputs": [
    {
     "name": "stdout",
     "output_type": "stream",
     "text": [
      "The length of list is:  5\n"
     ]
    }
   ],
   "source": [
    "#Question 3\n",
    "a = [1, 5, \"Taha\", \"2534\", 52] \n",
    "print(\"The length of list is: \", len(a))"
   ]
  },
  {
   "cell_type": "code",
   "execution_count": 16,
   "metadata": {},
   "outputs": [
    {
     "name": "stdout",
     "output_type": "stream",
     "text": [
      "Sum of all elements in given list:  50\n"
     ]
    }
   ],
   "source": [
    "#Question 4\n",
    "total=0\n",
    "list1 = [10, 10, 10, 10, 10]  \n",
    "for ele in range(0, len(list1)): \n",
    "    total = total + list1[ele] \n",
    "print(\"Sum of all elements in given list: \", total)"
   ]
  },
  {
   "cell_type": "code",
   "execution_count": 18,
   "metadata": {},
   "outputs": [
    {
     "name": "stdout",
     "output_type": "stream",
     "text": [
      "Largest element is: 105\n"
     ]
    }
   ],
   "source": [
    "#Question 5\n",
    "\n",
    "list1 = [10, 20, 4, 45, 105] \n",
    "list1.sort() \n",
    "print(\"Largest element is:\", list1[-1]) "
   ]
  },
  {
   "cell_type": "code",
   "execution_count": 22,
   "metadata": {},
   "outputs": [
    {
     "name": "stdout",
     "output_type": "stream",
     "text": [
      "[1]\n",
      "[1]\n",
      "[2]\n",
      "[3]\n",
      "[4]\n"
     ]
    }
   ],
   "source": [
    "#Question 6\n",
    "a = [1, 1, 2, 3, 5, 8, 13, 4, 34, 55, 89]\n",
    "\n",
    "for nums in a:\n",
    "    if nums < 5:\n",
    "        print([nums])"
   ]
  },
  {
   "cell_type": "code",
   "execution_count": null,
   "metadata": {},
   "outputs": [],
   "source": []
  }
 ],
 "metadata": {
  "kernelspec": {
   "display_name": "Python 3",
   "language": "python",
   "name": "python3"
  },
  "language_info": {
   "codemirror_mode": {
    "name": "ipython",
    "version": 3
   },
   "file_extension": ".py",
   "mimetype": "text/x-python",
   "name": "python",
   "nbconvert_exporter": "python",
   "pygments_lexer": "ipython3",
   "version": "3.7.4"
  }
 },
 "nbformat": 4,
 "nbformat_minor": 2
}
