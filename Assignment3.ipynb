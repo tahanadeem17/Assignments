{
 "cells": [
  {
   "cell_type": "code",
   "execution_count": 8,
   "metadata": {},
   "outputs": [
    {
     "name": "stdout",
     "output_type": "stream",
     "text": [
      "Enter First Number: 5\n",
      "Enter Second Number: 2\n",
      "Enter Operator: p\n",
      "Answer is:  25\n"
     ]
    }
   ],
   "source": [
    "#Question 1\n",
    "num1 = int(input(\"Enter First Number: \"))\n",
    "num2 = int(input(\"Enter Second Number: \"))\n",
    "\n",
    "operator = input(\"Enter Operator: \")\n",
    "if operator == '+':\n",
    "    val = num1 + num2\n",
    "    print(\"Answer is: \", val)\n",
    "elif operator == '-':\n",
    "    val = num1 - num2\n",
    "    print(\"Answer is: \", val)\n",
    "elif operator == '*':\n",
    "    val = num1 * num2\n",
    "    print(\"Answer is: \", val)\n",
    "elif operator == '/':\n",
    "    val = num1 * num2\n",
    "    print(\"Answer is: \", val)\n",
    "elif operator == 'p':\n",
    "    val = num1 ** num2\n",
    "    print(\"Answer is: \", val)\n",
    "else:\n",
    "    print(\"Wrong Operator\")"
   ]
  },
  {
   "cell_type": "code",
   "execution_count": 12,
   "metadata": {},
   "outputs": [
    {
     "name": "stdout",
     "output_type": "stream",
     "text": [
      "The original list : ['Rs. 24', 'Rs. 18', 'Rs. 8', 'Rs. 21']\n",
      "The list after Extracting numbers : [24, 18, 8, 21]\n"
     ]
    }
   ],
   "source": [
    "#Question 2\n",
    "test_list = ['Rs. 24', 'Rs. 18', 'Rs. 8', 'Rs. 21'] \n",
    "  \n",
    "print(\"The original list : \" + str(test_list)) \n",
    "res = [int(sub.split('.')[1]) for sub in test_list] \n",
    "  \n",
    "# print result \n",
    "print(\"The list after Extracting numbers : \" + str(res))"
   ]
  },
  {
   "cell_type": "code",
   "execution_count": 15,
   "metadata": {},
   "outputs": [
    {
     "name": "stdout",
     "output_type": "stream",
     "text": [
      "{0: 10, 1: 20}\n",
      "{0: 10, 1: 20, 2: 30}\n",
      "{0: 10, 1: 20, 2: 30, 4: 5}\n"
     ]
    }
   ],
   "source": [
    "#Question 3\n",
    "d = {0:10, 1:20}\n",
    "print(d)\n",
    "d.update({2:30})\n",
    "print(d)\n",
    "d.update({4:5})\n",
    "print(d)"
   ]
  },
  {
   "cell_type": "code",
   "execution_count": 16,
   "metadata": {},
   "outputs": [
    {
     "name": "stdout",
     "output_type": "stream",
     "text": [
      "100\n"
     ]
    }
   ],
   "source": [
    "#Question 4\n",
    "my_dict = {'data1':20,'data2':60,'data3':20}\n",
    "print(sum(my_dict.values()))"
   ]
  },
  {
   "cell_type": "code",
   "execution_count": 18,
   "metadata": {},
   "outputs": [
    {
     "name": "stdout",
     "output_type": "stream",
     "text": [
      "[20, 30, -20, 60]\n"
     ]
    }
   ],
   "source": [
    "#Question 5\n",
    "def Repeat(x): \n",
    "    _size = len(x) \n",
    "    repeated = [] \n",
    "    for i in range(_size): \n",
    "        k = i + 1\n",
    "        for j in range(k, _size): \n",
    "            if x[i] == x[j] and x[i] not in repeated: \n",
    "                repeated.append(x[i]) \n",
    "    return repeated \n",
    "list1 = [10, 20, 30, 20, 20, 30, 40,  \n",
    "         50, -20, 60, 60, -20, -20] \n",
    "print (Repeat(list1)) "
   ]
  },
  {
   "cell_type": "code",
   "execution_count": 25,
   "metadata": {},
   "outputs": [
    {
     "name": "stdout",
     "output_type": "stream",
     "text": [
      "Key is present in the dictionary\n",
      "Key is not present in the dictionary\n"
     ]
    }
   ],
   "source": [
    "#Question 6\n",
    "d = {1: 10, 2: 20, 3: 30, 4: 40, 5: 50, 6: 60}\n",
    "def is_key_present(x):\n",
    "  if x in d:\n",
    "      print('Key is present in the dictionary')\n",
    "  else:\n",
    "      print('Key is not present in the dictionary')\n",
    "is_key_present(4)\n",
    "is_key_present(20)"
   ]
  },
  {
   "cell_type": "code",
   "execution_count": null,
   "metadata": {},
   "outputs": [],
   "source": []
  },
  {
   "cell_type": "code",
   "execution_count": null,
   "metadata": {},
   "outputs": [],
   "source": []
  }
 ],
 "metadata": {
  "kernelspec": {
   "display_name": "Python 3",
   "language": "python",
   "name": "python3"
  },
  "language_info": {
   "codemirror_mode": {
    "name": "ipython",
    "version": 3
   },
   "file_extension": ".py",
   "mimetype": "text/x-python",
   "name": "python",
   "nbconvert_exporter": "python",
   "pygments_lexer": "ipython3",
   "version": "3.7.4"
  }
 },
 "nbformat": 4,
 "nbformat_minor": 2
}
